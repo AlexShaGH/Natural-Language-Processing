{
 "cells": [
  {
   "cell_type": "markdown",
   "metadata": {
    "id": "vw98ZqWwBfCe"
   },
   "source": [
    "## **Assignment 2**\n",
    "## CS585 - NLP\n",
    "## Oleksandr Shashkov"
   ]
  },
  {
   "cell_type": "code",
   "execution_count": 31,
   "metadata": {
    "colab": {
     "base_uri": "https://localhost:8080/"
    },
    "id": "2cZVXGVABeZE",
    "outputId": "e5947fab-98a5-4021-d1d8-c15ead595087"
   },
   "outputs": [
    {
     "name": "stdout",
     "output_type": "stream",
     "text": [
      "Drive already mounted at /content/drive; to attempt to forcibly remount, call drive.mount(\"/content/drive\", force_remount=True).\n"
     ]
    }
   ],
   "source": [
    "import pandas as pd\n",
    "import numpy as np\n",
    "from pathlib import Path\n",
    "from sklearn.metrics import cohen_kappa_score\n",
    "from google.colab import drive\n",
    "drive.mount('/content/drive')"
   ]
  },
  {
   "cell_type": "markdown",
   "metadata": {
    "id": "dnLGcHLnayYy"
   },
   "source": [
    "## Part 1: Evaluate annotator agreement"
   ]
  },
  {
   "cell_type": "code",
   "execution_count": 32,
   "metadata": {
    "colab": {
     "base_uri": "https://localhost:8080/"
    },
    "id": "63l9once9SxV",
    "outputId": "9089f5eb-0443-4179-e94a-ce313d4019bf"
   },
   "outputs": [
    {
     "name": "stdout",
     "output_type": "stream",
     "text": [
      "Average kappa scores for each annotator for every topic file:\n",
      "nyt_topic_0_lockdowns.csv:\n",
      "  annotation_41: 0.3865669044318172\n",
      "  annotation_67: 0.41104152550015244\n",
      "  annotation_19: 0.4459637258672724\n",
      "  annotation_55: 0.5280749200206049\n",
      "nyt_topic_1_lockdowns.csv:\n",
      "  annotation_65: 0.38852720260388834\n",
      "  annotation_66: 0.38068806455874454\n",
      "  annotation_68: 0.4584365385007858\n",
      "  annotation_69: 0.40820392347279305\n",
      "nyt_topic_2_lockdowns.csv:\n",
      "  annotation_40: 0.5395813559311737\n",
      "  annotation_8: 0.2852685594864206\n",
      "  annotation_42: 0.5042676574197813\n",
      "  annotation_15: 0.5118571375739781\n",
      "nyt_topic_0_masking_and_distancing.csv:\n",
      "  annotation_41: 0.6178689693623323\n",
      "  annotation_67: 0.6793745080912982\n",
      "  annotation_19: 0.559986544802163\n",
      "  annotation_55: 0.6905681829759921\n",
      "nyt_topic_1_masking_and_distancing.csv:\n",
      "  annotation_65: 0.717961781836577\n",
      "  annotation_66: 0.81615480779507\n",
      "  annotation_68: 0.7796374195875933\n",
      "  annotation_69: 0.7608777556872485\n",
      "nyt_topic_2_masking_and_distancing.csv:\n",
      "  annotation_40: 0.8680351367101232\n",
      "  annotation_8: 0.8163529815843242\n",
      "  annotation_42: 0.8834045515528434\n",
      "  annotation_15: 0.8653067182215114\n",
      "nyt_topic_0_vaccination.csv:\n",
      "  annotation_41: 0.4722292612266507\n",
      "  annotation_67: 0.6166199891710796\n",
      "  annotation_19: 0.6396122989475496\n",
      "  annotation_55: 0.6749379547675497\n",
      "nyt_topic_1_vaccination.csv:\n",
      "  annotation_65: 0.5931626609456672\n",
      "  annotation_66: 0.7920901900251064\n",
      "  annotation_68: 0.7918884843564401\n",
      "  annotation_69: 0.8183480358765317\n",
      "nyt_topic_2_vaccination.csv:\n",
      "  annotation_40: 0.8227213740395136\n",
      "  annotation_8: 0.6965898776211715\n",
      "  annotation_42: 0.8501722633789961\n",
      "  annotation_15: 0.8307135924440673\n",
      "twitter_topic_0_lockdowns.csv:\n",
      "  annotation_104: 0.15310922941528948\n",
      "  annotation_101: 0.20788424756793666\n",
      "  annotation_102: 0.1699956795349352\n",
      "  annotation_103: 0.20986808782839614\n",
      "twitter_topic_1_lockdowns.csv:\n",
      "  annotation_51: 0.38374396729420157\n",
      "  annotation_52: 0.2475066127986606\n",
      "  annotation_53: 0.3466783318742191\n",
      "  annotation_54: 0.3615994589823533\n",
      "twitter_topic_2_lockdowns.csv:\n",
      "  annotation_56: 0.1163835813527575\n",
      "  annotation_57: 0.30077990922116665\n",
      "  annotation_58: 0.19539052471284699\n",
      "  annotation_59: 0.30290799595403145\n",
      "twitter_topic_0_masking_and_distancing.csv:\n",
      "  annotation_104: 0.5110966318263074\n",
      "  annotation_101: 0.7704815888817947\n",
      "  annotation_102: 0.7327868362752801\n",
      "  annotation_103: 0.7630634070755388\n",
      "twitter_topic_1_masking_and_distancing.csv:\n",
      "  annotation_51: 0.5547693664516317\n",
      "  annotation_52: 0.6992497233396247\n",
      "  annotation_53: 0.6807204926375218\n",
      "  annotation_54: 0.7045924598892853\n",
      "twitter_topic_2_masking_and_distancing.csv:\n",
      "  annotation_56: 0.6346300788322754\n",
      "  annotation_57: 0.6029432092245662\n",
      "  annotation_58: 0.5641640469267309\n",
      "  annotation_59: 0.6629464534041484\n",
      "twitter_topic_0_vaccination.csv:\n",
      "  annotation_104: 0.673287439979103\n",
      "  annotation_101: 0.7621309462828351\n",
      "  annotation_102: 0.6241408556645266\n",
      "  annotation_103: 0.7095627314652487\n",
      "twitter_topic_1_vaccination.csv:\n",
      "  annotation_51: 0.6557455942279518\n",
      "  annotation_52: 0.3626159972414958\n",
      "  annotation_53: 0.6134981271639437\n",
      "  annotation_54: 0.6083138882680158\n",
      "twitter_topic_2_vaccination.csv:\n",
      "  annotation_56: 0.6901550441139593\n",
      "  annotation_57: 0.6946177360097107\n",
      "  annotation_58: 0.5853754265879894\n",
      "  annotation_59: 0.7371881632778615\n"
     ]
    }
   ],
   "source": [
    "path = \"/content/drive/MyDrive/Education/CS585/HW2/\"\n",
    "files = [\n",
    "         \"nyt_topic_0_lockdowns.csv\",\n",
    "         \"nyt_topic_1_lockdowns.csv\",\n",
    "         \"nyt_topic_2_lockdowns.csv\",\n",
    "         \"nyt_topic_0_masking_and_distancing.csv\",\n",
    "         \"nyt_topic_1_masking_and_distancing.csv\",\n",
    "         \"nyt_topic_2_masking_and_distancing.csv\",\n",
    "         \"nyt_topic_0_vaccination.csv\",\n",
    "         \"nyt_topic_1_vaccination.csv\",\n",
    "         \"nyt_topic_2_vaccination.csv\",\n",
    "         \"twitter_topic_0_lockdowns.csv\",\n",
    "         \"twitter_topic_1_lockdowns.csv\",\n",
    "         \"twitter_topic_2_lockdowns.csv\",\n",
    "         \"twitter_topic_0_masking_and_distancing.csv\",\n",
    "         \"twitter_topic_1_masking_and_distancing.csv\",\n",
    "         \"twitter_topic_2_masking_and_distancing.csv\",\n",
    "         \"twitter_topic_0_vaccination.csv\",\n",
    "         \"twitter_topic_1_vaccination.csv\",\n",
    "         \"twitter_topic_2_vaccination.csv\"         \n",
    "         ]\n",
    "\n",
    "# nested dictionary to maintain kappa scores for each annotator for every file\n",
    "dict_kappas = {}\n",
    "\n",
    "#iterate through all the files to form a nested dictionary with all the kappas\n",
    "for file in files:\n",
    "  dict_kappas[file] ={}\n",
    "  data = pd.read_csv(path + file)#get the data from the file loaded\n",
    "\n",
    "  annotators = data.columns[1:].values.tolist()\n",
    "  kappas = np.zeros((len(annotators),len(annotators)))\n",
    "  #compute all the kappas\n",
    "  for i in range(0, len(annotators)):\n",
    "    for j in range(0,len(annotators)):\n",
    "      if i!=j:\n",
    "        kappas[i,j] = cohen_kappa_score(data[annotators[i]], data[annotators[j]])\n",
    "\n",
    "  #calculate average kappas\n",
    "  kappas_ave = sum(kappas)/(len(annotators)-1)\n",
    "  #pack it into nested dictionary\n",
    "  zip_iterator = zip(annotators, kappas_ave)\n",
    "  dict_kappas[file] = dict(zip_iterator)\n",
    "\n",
    "print(\"Average kappa scores for each annotator for every topic file:\")\n",
    "for file in dict_kappas:\n",
    "  print(file + \":\")\n",
    "  for ant in dict_kappas[file]:\n",
    "    print(\"  \" + ant + \": \" + str(dict_kappas[file][ant]))"
   ]
  },
  {
   "cell_type": "markdown",
   "metadata": {
    "id": "SB96o2GiBbkw"
   },
   "source": [
    "## Part 2: Assemble datasets"
   ]
  },
  {
   "cell_type": "code",
   "execution_count": 33,
   "metadata": {
    "colab": {
     "base_uri": "https://localhost:8080/"
    },
    "id": "1v87jIJ9lma0",
    "outputId": "360fd539-6000-4b6f-8e88-803d4e40beec"
   },
   "outputs": [
    {
     "name": "stdout",
     "output_type": "stream",
     "text": [
      "processing file nyt_topic_0_lockdowns.csv:\n",
      "Done\n",
      "processing file nyt_topic_1_lockdowns.csv:\n",
      "Done\n",
      "processing file nyt_topic_2_lockdowns.csv:\n",
      "Done\n",
      "processing file nyt_topic_0_masking_and_distancing.csv:\n",
      "Done\n",
      "processing file nyt_topic_1_masking_and_distancing.csv:\n",
      "Done\n",
      "processing file nyt_topic_2_masking_and_distancing.csv:\n",
      "Done\n",
      "processing file nyt_topic_0_vaccination.csv:\n",
      "Done\n",
      "processing file nyt_topic_1_vaccination.csv:\n",
      "Done\n",
      "processing file nyt_topic_2_vaccination.csv:\n",
      "Done\n",
      "processing file twitter_topic_0_lockdowns.csv:\n",
      " dropping annotation_104 with kappa = 0.15310922941528948\n",
      " dropping annotation_102 with kappa = 0.1699956795349352\n",
      "Done\n",
      "processing file twitter_topic_1_lockdowns.csv:\n",
      "Done\n",
      "processing file twitter_topic_2_lockdowns.csv:\n",
      " dropping annotation_56 with kappa = 0.1163835813527575\n",
      " dropping annotation_58 with kappa = 0.19539052471284699\n",
      "Done\n",
      "processing file twitter_topic_0_masking_and_distancing.csv:\n",
      "Done\n",
      "processing file twitter_topic_1_masking_and_distancing.csv:\n",
      "Done\n",
      "processing file twitter_topic_2_masking_and_distancing.csv:\n",
      "Done\n",
      "processing file twitter_topic_0_vaccination.csv:\n",
      "Done\n",
      "processing file twitter_topic_1_vaccination.csv:\n",
      "Done\n",
      "processing file twitter_topic_2_vaccination.csv:\n",
      "Done\n"
     ]
    }
   ],
   "source": [
    "kappa_treshold = 0.2\n",
    "\n",
    "for file, kappas in dict_kappas.items():\n",
    "  print(\"processing file \" + file + \":\")\n",
    "  data = pd.read_csv(path + file)#get the data from the file in\n",
    "  max_key = max(kappas, key=kappas.get)#remember the best annotator\n",
    "\n",
    "  #this loop is for eliminating por annotations\n",
    "  for anot, kappa in kappas.items():\n",
    "    if kappa < kappa_treshold:\n",
    "      print(\" dropping \" + anot + \" with kappa = \" + str(kappa))\n",
    "      data.drop(columns=[anot],inplace=True)\n",
    "  \n",
    "  # voting - majority or the best annotator on the split\n",
    "  mode = data.iloc[:,1:].mode(axis=1)\n",
    "  data['label'] = np.where(mode[1].isna(), mode[0], data[max_key])\n",
    "\n",
    "  #save the data with best labels\n",
    "  data.loc[:,['text','label']].to_csv(path + Path(file).stem + \"_mod.csv\", index=False)\n",
    "  print(\"Done\")"
   ]
  },
  {
   "cell_type": "markdown",
   "metadata": {
    "id": "3KC02Xp2Nt7v"
   },
   "source": [
    "## Combine files "
   ]
  },
  {
   "cell_type": "code",
   "execution_count": 34,
   "metadata": {
    "colab": {
     "base_uri": "https://localhost:8080/"
    },
    "id": "wBuemZwk4d85",
    "outputId": "2c951d9a-ce6e-4125-8d9f-f7f5dd4b782e"
   },
   "outputs": [
    {
     "name": "stdout",
     "output_type": "stream",
     "text": [
      "combining final file nyt_topic_lockdowns.csv from:\n",
      "  nyt_topic_0_lockdowns_mod.csv\n",
      "  nyt_topic_1_lockdowns_mod.csv\n",
      "  nyt_topic_2_lockdowns_mod.csv\n",
      "Done!\n",
      "combining final file nyt_topic_masking_and_distancing.csv from:\n",
      "  nyt_topic_0_masking_and_distancing_mod.csv\n",
      "  nyt_topic_1_masking_and_distancing_mod.csv\n",
      "  nyt_topic_2_masking_and_distancing_mod.csv\n",
      "Done!\n",
      "combining final file nyt_topic_vaccination.csv from:\n",
      "  nyt_topic_0_vaccination_mod.csv\n",
      "  nyt_topic_1_vaccination_mod.csv\n",
      "  nyt_topic_2_vaccination_mod.csv\n",
      "Done!\n",
      "combining final file twitter_topic_lockdowns.csv from:\n",
      "  twitter_topic_0_lockdowns_mod.csv\n",
      "  twitter_topic_1_lockdowns_mod.csv\n",
      "  twitter_topic_2_lockdowns_mod.csv\n",
      "Done!\n",
      "combining final file twitter_topic_masking_and_distancing.csv from:\n",
      "  twitter_topic_0_masking_and_distancing_mod.csv\n",
      "  twitter_topic_1_masking_and_distancing_mod.csv\n",
      "  twitter_topic_2_masking_and_distancing_mod.csv\n",
      "Done!\n",
      "combining final file twitter_topic_vaccination.csv from:\n",
      "  twitter_topic_0_vaccination_mod.csv\n",
      "  twitter_topic_1_vaccination_mod.csv\n",
      "  twitter_topic_2_vaccination_mod.csv\n",
      "Done!\n"
     ]
    }
   ],
   "source": [
    "# these are the names of temporary files created on the previous step\n",
    "mod_files = [\n",
    "         \"nyt_topic_0_lockdowns_mod.csv\",\n",
    "         \"nyt_topic_1_lockdowns_mod.csv\",\n",
    "         \"nyt_topic_2_lockdowns_mod.csv\",\n",
    "         \"nyt_topic_0_masking_and_distancing_mod.csv\",\n",
    "         \"nyt_topic_1_masking_and_distancing_mod.csv\",\n",
    "         \"nyt_topic_2_masking_and_distancing_mod.csv\",\n",
    "         \"nyt_topic_0_vaccination_mod.csv\",\n",
    "         \"nyt_topic_1_vaccination_mod.csv\",\n",
    "         \"nyt_topic_2_vaccination_mod.csv\",\n",
    "         \"twitter_topic_0_lockdowns_mod.csv\",\n",
    "         \"twitter_topic_1_lockdowns_mod.csv\",\n",
    "         \"twitter_topic_2_lockdowns_mod.csv\",\n",
    "         \"twitter_topic_0_masking_and_distancing_mod.csv\",\n",
    "         \"twitter_topic_1_masking_and_distancing_mod.csv\",\n",
    "         \"twitter_topic_2_masking_and_distancing_mod.csv\",\n",
    "         \"twitter_topic_0_vaccination_mod.csv\",\n",
    "         \"twitter_topic_1_vaccination_mod.csv\",\n",
    "         \"twitter_topic_2_vaccination_mod.csv\"         \n",
    "         ]\n",
    "\n",
    "#these are the names of final output files\n",
    "final_files = [\n",
    "         \"nyt_topic_lockdowns.csv\",\n",
    "         \"nyt_topic_masking_and_distancing.csv\",\n",
    "         \"nyt_topic_vaccination.csv\",\n",
    "         \"twitter_topic_lockdowns.csv\",\n",
    "         \"twitter_topic_masking_and_distancing.csv\",\n",
    "         \"twitter_topic_vaccination.csv\"\n",
    "         ]\n",
    "\n",
    "for index, file in enumerate(final_files):\n",
    "  print(\"combining final file \" + file + \" from:\")\n",
    "  #get new and empty dataframe for each final file firts\n",
    "  data = pd.DataFrame()\n",
    "  for i in range(3):\n",
    "    fl_indx = index*3+i\n",
    "    print(\"  \" + mod_files[fl_indx])\n",
    "    #get the data from the file loaded\n",
    "    df = pd.read_csv(path + mod_files[fl_indx])\n",
    "    #add it to the dataframe\n",
    "    data = pd.concat([data, df], ignore_index=True)\n",
    "  #save the final version of file\n",
    "  data.to_csv(path + file, index=False)\n",
    "  print(\"Done!\")\n"
   ]
  }
 ],
 "metadata": {
  "colab": {
   "collapsed_sections": [],
   "name": "Oleksandr-Shashkov-CS-585-HW2.ipynb",
   "provenance": []
  },
  "kernelspec": {
   "display_name": "Python 3",
   "language": "python",
   "name": "python3"
  },
  "language_info": {
   "codemirror_mode": {
    "name": "ipython",
    "version": 3
   },
   "file_extension": ".py",
   "mimetype": "text/x-python",
   "name": "python",
   "nbconvert_exporter": "python",
   "pygments_lexer": "ipython3",
   "version": "3.8.8"
  }
 },
 "nbformat": 4,
 "nbformat_minor": 1
}
